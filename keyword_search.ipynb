{
 "cells": [
  {
   "cell_type": "code",
   "execution_count": 3,
   "metadata": {},
   "outputs": [],
   "source": [
    "import PyPDF2 as pdf\n",
    "import flashtext\n",
    "from flashtext import KeywordProcessor\n",
    "import os"
   ]
  },
  {
   "cell_type": "code",
   "execution_count": 4,
   "metadata": {},
   "outputs": [],
   "source": [
    "pdfFiles = []\n",
    "for filename in os.listdir('Data_Set'):\n",
    "    if(filename.endswith('.pdf')):\n",
    "        pdfFiles.append(filename)\n",
    "        \n",
    "keyword_processor = KeywordProcessor()      \n",
    "list_pdf_files = []\n",
    "search_string = 'act'"
   ]
  },
  {
   "cell_type": "code",
   "execution_count": 5,
   "metadata": {},
   "outputs": [
    {
     "name": "stdout",
     "output_type": "stream",
     "text": [
      "['7__Judgement_23-Jul-2018.pdf', '8__Judgement_23-Jul-2018.pdf']\n"
     ]
    }
   ],
   "source": [
    "if(search_string.find(\"AND\")):\n",
    "    substring = search_string.split(' AND ')\n",
    "    search_words = []\n",
    "    for i in substring:\n",
    "        keyword_processor.add_keyword(i)\n",
    "        search_words.append(i)\n",
    "    \n",
    "    for filename in pdfFiles:\n",
    "    \n",
    "            pdfFileObj = open(os.path.join('.\\Data_Set', filename), 'rb')\n",
    "            pdf_reader = pdf.PdfFileReader(pdfFileObj)\n",
    "\n",
    "            pg_num = pdf_reader.getNumPages()\n",
    "            #print(pg_num)\n",
    "            extracted_list = []\n",
    "\n",
    "            for i in range(pg_num):\n",
    "                page = pdf_reader.getPage(i)\n",
    "                text = page.extractText()\n",
    "                #print(text)\n",
    "                extracted_list_perpg = keyword_processor.extract_keywords(text)\n",
    "                \n",
    "                extracted_list.extend(extracted_list_perpg)\n",
    "                check =  all(item in extracted_list for item in search_words) \n",
    "                if check is True:\n",
    "                    list_pdf_files.append(filename)\n",
    "                    break\n",
    "                    \n",
    "    #print(list_pdf_files)\n",
    "    \n",
    "    \n",
    "\n",
    "else:\n",
    "    if(search_string.find(\"OR\")):\n",
    "        substring = search_string.split(' OR ')\n",
    "    else:\n",
    "        substring = [search_string]\n",
    "        \n",
    "    for i in substring:\n",
    "        keyword_processor.add_keyword(i)\n",
    "        search_words.append(i)\n",
    "        \n",
    "    for filename in pdfFiles:\n",
    "    \n",
    "            pdfFileObj = open(os.path.join('.\\Data_Set', filename), 'rb')\n",
    "            pdf_reader = pdf.PdfFileReader(pdfFileObj)\n",
    "\n",
    "            pg_num = pdf_reader.getNumPages()\n",
    "            #print(pg_num)    \n",
    "\n",
    "            for i in range(pg_num):\n",
    "                page = pdf_reader.getPage(i)\n",
    "                text = page.extractText()\n",
    "                #print(text)\n",
    "                extracted_list = keyword_processor.extract_keywords(text)\n",
    "                if(extracted_list != []):\n",
    "                    break    \n",
    "\n",
    "            if(extracted_list != []):\n",
    "                list_pdf_files.append(filename)\n",
    "                \n",
    "                \n",
    "                \n",
    "print(list_pdf_files)"
   ]
  },
  {
   "cell_type": "code",
   "execution_count": null,
   "metadata": {},
   "outputs": [],
   "source": []
  }
 ],
 "metadata": {
  "kernelspec": {
   "display_name": "Python 3",
   "language": "python",
   "name": "python3"
  },
  "language_info": {
   "codemirror_mode": {
    "name": "ipython",
    "version": 3
   },
   "file_extension": ".py",
   "mimetype": "text/x-python",
   "name": "python",
   "nbconvert_exporter": "python",
   "pygments_lexer": "ipython3",
   "version": "3.7.3"
  }
 },
 "nbformat": 4,
 "nbformat_minor": 2
}
